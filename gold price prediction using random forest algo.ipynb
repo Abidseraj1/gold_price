{
 "cells": [
  {
   "cell_type": "code",
   "execution_count": 1,
   "id": "2bb1b15c",
   "metadata": {},
   "outputs": [],
   "source": [
    "import numpy as np \n",
    "import pandas as pd \n",
    "import matplotlib.pyplot as plt\n",
    "import seaborn as sns \n",
    "from sklearn.model_selection import train_test_split,GridSearchCV\n",
    "from sklearn.feature_extraction.text import CountVectorizer\n",
    "from sklearn.ensemble import RandomForestRegressor\n",
    "from sklearn import metrics\n",
    "from sklearn.metrics import accuracy_score\n",
    "from sklearn.linear_model import LinearRegression\n",
    "from sklearn.tree import DecisionTreeRegressor\n",
    "from sklearn.preprocessing import StandardScaler\n",
    "from sklearn.compose import ColumnTransformer\n",
    "from sklearn.metrics import mean_squared_error,mean_absolute_error, mean_absolute_percentage_error,r2_score"
   ]
  },
  {
   "cell_type": "markdown",
   "id": "a8b14d52",
   "metadata": {},
   "source": [
    "# Data collection and processing"
   ]
  },
  {
   "cell_type": "markdown",
   "id": "6d9e3ef0",
   "metadata": {},
   "source": [
    "# Loading the csv data to a pandas dataframe "
   ]
  },
  {
   "cell_type": "code",
   "execution_count": 2,
   "id": "7b93fee3",
   "metadata": {},
   "outputs": [],
   "source": [
    " gold= pd.read_csv(\"Gold.csv\")"
   ]
  },
  {
   "cell_type": "code",
   "execution_count": 3,
   "id": "b5891cc5",
   "metadata": {},
   "outputs": [
    {
     "name": "stdout",
     "output_type": "stream",
     "text": [
      "          Date  Gold_Price  Crude_Oil  Interest_Rate    USD_INR    Sensex  \\\n",
      "0    1/10/2000        4538    1455.51           8.00  46.318297   3711.02   \n",
      "1    1/11/2000        4483    1512.47           8.00  46.783613   3997.99   \n",
      "2    1/12/2000        4541    1178.11           8.00  46.745856   3972.12   \n",
      "3     1/1/2001        4466    1208.18           8.00  46.536033   4326.72   \n",
      "4     1/2/2001        4370    1267.18           7.50  46.514595   4247.04   \n",
      "..         ...         ...        ...            ...        ...       ...   \n",
      "234   1/4/2020       45504    1603.02           4.65  76.222334  33717.62   \n",
      "235   1/5/2020       46343    2298.55           4.25  75.666063  32424.10   \n",
      "236   1/6/2020       47315    2987.46           4.25  75.763427  34915.80   \n",
      "237   1/7/2020       49878    3156.01           4.25  74.908993  37606.89   \n",
      "238   1/8/2020       52917    3243.75           4.25  74.573820  38628.29   \n",
      "\n",
      "        CPI  USD_Index  \n",
      "0     37.23     116.65  \n",
      "1     37.31     115.24  \n",
      "2     36.98     109.56  \n",
      "3     36.90     110.52  \n",
      "4     36.73     112.01  \n",
      "..      ...        ...  \n",
      "234  125.85      99.57  \n",
      "235  126.24      98.34  \n",
      "236  127.00      97.39  \n",
      "237  128.53      93.35  \n",
      "238  129.30      92.14  \n",
      "\n",
      "[239 rows x 8 columns]\n"
     ]
    }
   ],
   "source": [
    "print(gold)"
   ]
  },
  {
   "cell_type": "markdown",
   "id": "0ac2149d",
   "metadata": {},
   "source": [
    "# print the first 5 rows of dataframe"
   ]
  },
  {
   "cell_type": "code",
   "execution_count": 4,
   "id": "78ce9394",
   "metadata": {},
   "outputs": [
    {
     "data": {
      "text/html": [
       "<div>\n",
       "<style scoped>\n",
       "    .dataframe tbody tr th:only-of-type {\n",
       "        vertical-align: middle;\n",
       "    }\n",
       "\n",
       "    .dataframe tbody tr th {\n",
       "        vertical-align: top;\n",
       "    }\n",
       "\n",
       "    .dataframe thead th {\n",
       "        text-align: right;\n",
       "    }\n",
       "</style>\n",
       "<table border=\"1\" class=\"dataframe\">\n",
       "  <thead>\n",
       "    <tr style=\"text-align: right;\">\n",
       "      <th></th>\n",
       "      <th>Date</th>\n",
       "      <th>Gold_Price</th>\n",
       "      <th>Crude_Oil</th>\n",
       "      <th>Interest_Rate</th>\n",
       "      <th>USD_INR</th>\n",
       "      <th>Sensex</th>\n",
       "      <th>CPI</th>\n",
       "      <th>USD_Index</th>\n",
       "    </tr>\n",
       "  </thead>\n",
       "  <tbody>\n",
       "    <tr>\n",
       "      <th>0</th>\n",
       "      <td>1/10/2000</td>\n",
       "      <td>4538</td>\n",
       "      <td>1455.51</td>\n",
       "      <td>8.0</td>\n",
       "      <td>46.318297</td>\n",
       "      <td>3711.02</td>\n",
       "      <td>37.23</td>\n",
       "      <td>116.65</td>\n",
       "    </tr>\n",
       "    <tr>\n",
       "      <th>1</th>\n",
       "      <td>1/11/2000</td>\n",
       "      <td>4483</td>\n",
       "      <td>1512.47</td>\n",
       "      <td>8.0</td>\n",
       "      <td>46.783613</td>\n",
       "      <td>3997.99</td>\n",
       "      <td>37.31</td>\n",
       "      <td>115.24</td>\n",
       "    </tr>\n",
       "    <tr>\n",
       "      <th>2</th>\n",
       "      <td>1/12/2000</td>\n",
       "      <td>4541</td>\n",
       "      <td>1178.11</td>\n",
       "      <td>8.0</td>\n",
       "      <td>46.745856</td>\n",
       "      <td>3972.12</td>\n",
       "      <td>36.98</td>\n",
       "      <td>109.56</td>\n",
       "    </tr>\n",
       "    <tr>\n",
       "      <th>3</th>\n",
       "      <td>1/1/2001</td>\n",
       "      <td>4466</td>\n",
       "      <td>1208.18</td>\n",
       "      <td>8.0</td>\n",
       "      <td>46.536033</td>\n",
       "      <td>4326.72</td>\n",
       "      <td>36.90</td>\n",
       "      <td>110.52</td>\n",
       "    </tr>\n",
       "    <tr>\n",
       "      <th>4</th>\n",
       "      <td>1/2/2001</td>\n",
       "      <td>4370</td>\n",
       "      <td>1267.18</td>\n",
       "      <td>7.5</td>\n",
       "      <td>46.514595</td>\n",
       "      <td>4247.04</td>\n",
       "      <td>36.73</td>\n",
       "      <td>112.01</td>\n",
       "    </tr>\n",
       "  </tbody>\n",
       "</table>\n",
       "</div>"
      ],
      "text/plain": [
       "        Date  Gold_Price  Crude_Oil  Interest_Rate    USD_INR   Sensex    CPI  \\\n",
       "0  1/10/2000        4538    1455.51            8.0  46.318297  3711.02  37.23   \n",
       "1  1/11/2000        4483    1512.47            8.0  46.783613  3997.99  37.31   \n",
       "2  1/12/2000        4541    1178.11            8.0  46.745856  3972.12  36.98   \n",
       "3   1/1/2001        4466    1208.18            8.0  46.536033  4326.72  36.90   \n",
       "4   1/2/2001        4370    1267.18            7.5  46.514595  4247.04  36.73   \n",
       "\n",
       "   USD_Index  \n",
       "0     116.65  \n",
       "1     115.24  \n",
       "2     109.56  \n",
       "3     110.52  \n",
       "4     112.01  "
      ]
     },
     "execution_count": 4,
     "metadata": {},
     "output_type": "execute_result"
    }
   ],
   "source": [
    "gold.head()"
   ]
  },
  {
   "cell_type": "markdown",
   "id": "7fe8e1cb",
   "metadata": {},
   "source": [
    "# #print last 5 rows of dataframe "
   ]
  },
  {
   "cell_type": "code",
   "execution_count": 5,
   "id": "24a375bf",
   "metadata": {},
   "outputs": [
    {
     "data": {
      "text/html": [
       "<div>\n",
       "<style scoped>\n",
       "    .dataframe tbody tr th:only-of-type {\n",
       "        vertical-align: middle;\n",
       "    }\n",
       "\n",
       "    .dataframe tbody tr th {\n",
       "        vertical-align: top;\n",
       "    }\n",
       "\n",
       "    .dataframe thead th {\n",
       "        text-align: right;\n",
       "    }\n",
       "</style>\n",
       "<table border=\"1\" class=\"dataframe\">\n",
       "  <thead>\n",
       "    <tr style=\"text-align: right;\">\n",
       "      <th></th>\n",
       "      <th>Date</th>\n",
       "      <th>Gold_Price</th>\n",
       "      <th>Crude_Oil</th>\n",
       "      <th>Interest_Rate</th>\n",
       "      <th>USD_INR</th>\n",
       "      <th>Sensex</th>\n",
       "      <th>CPI</th>\n",
       "      <th>USD_Index</th>\n",
       "    </tr>\n",
       "  </thead>\n",
       "  <tbody>\n",
       "    <tr>\n",
       "      <th>234</th>\n",
       "      <td>1/4/2020</td>\n",
       "      <td>45504</td>\n",
       "      <td>1603.02</td>\n",
       "      <td>4.65</td>\n",
       "      <td>76.222334</td>\n",
       "      <td>33717.62</td>\n",
       "      <td>125.85</td>\n",
       "      <td>99.57</td>\n",
       "    </tr>\n",
       "    <tr>\n",
       "      <th>235</th>\n",
       "      <td>1/5/2020</td>\n",
       "      <td>46343</td>\n",
       "      <td>2298.55</td>\n",
       "      <td>4.25</td>\n",
       "      <td>75.666063</td>\n",
       "      <td>32424.10</td>\n",
       "      <td>126.24</td>\n",
       "      <td>98.34</td>\n",
       "    </tr>\n",
       "    <tr>\n",
       "      <th>236</th>\n",
       "      <td>1/6/2020</td>\n",
       "      <td>47315</td>\n",
       "      <td>2987.46</td>\n",
       "      <td>4.25</td>\n",
       "      <td>75.763427</td>\n",
       "      <td>34915.80</td>\n",
       "      <td>127.00</td>\n",
       "      <td>97.39</td>\n",
       "    </tr>\n",
       "    <tr>\n",
       "      <th>237</th>\n",
       "      <td>1/7/2020</td>\n",
       "      <td>49878</td>\n",
       "      <td>3156.01</td>\n",
       "      <td>4.25</td>\n",
       "      <td>74.908993</td>\n",
       "      <td>37606.89</td>\n",
       "      <td>128.53</td>\n",
       "      <td>93.35</td>\n",
       "    </tr>\n",
       "    <tr>\n",
       "      <th>238</th>\n",
       "      <td>1/8/2020</td>\n",
       "      <td>52917</td>\n",
       "      <td>3243.75</td>\n",
       "      <td>4.25</td>\n",
       "      <td>74.573820</td>\n",
       "      <td>38628.29</td>\n",
       "      <td>129.30</td>\n",
       "      <td>92.14</td>\n",
       "    </tr>\n",
       "  </tbody>\n",
       "</table>\n",
       "</div>"
      ],
      "text/plain": [
       "         Date  Gold_Price  Crude_Oil  Interest_Rate    USD_INR    Sensex  \\\n",
       "234  1/4/2020       45504    1603.02           4.65  76.222334  33717.62   \n",
       "235  1/5/2020       46343    2298.55           4.25  75.666063  32424.10   \n",
       "236  1/6/2020       47315    2987.46           4.25  75.763427  34915.80   \n",
       "237  1/7/2020       49878    3156.01           4.25  74.908993  37606.89   \n",
       "238  1/8/2020       52917    3243.75           4.25  74.573820  38628.29   \n",
       "\n",
       "        CPI  USD_Index  \n",
       "234  125.85      99.57  \n",
       "235  126.24      98.34  \n",
       "236  127.00      97.39  \n",
       "237  128.53      93.35  \n",
       "238  129.30      92.14  "
      ]
     },
     "execution_count": 5,
     "metadata": {},
     "output_type": "execute_result"
    }
   ],
   "source": [
    "gold.tail()"
   ]
  },
  {
   "cell_type": "markdown",
   "id": "ae449468",
   "metadata": {},
   "source": [
    "# numbers of rows and colume"
   ]
  },
  {
   "cell_type": "code",
   "execution_count": 6,
   "id": "a3b13d22",
   "metadata": {},
   "outputs": [
    {
     "data": {
      "text/plain": [
       "(239, 8)"
      ]
     },
     "execution_count": 6,
     "metadata": {},
     "output_type": "execute_result"
    }
   ],
   "source": [
    "gold.shape "
   ]
  },
  {
   "cell_type": "code",
   "execution_count": 7,
   "id": "5a5c5f92",
   "metadata": {},
   "outputs": [
    {
     "name": "stdout",
     "output_type": "stream",
     "text": [
      "<class 'pandas.core.frame.DataFrame'>\n",
      "RangeIndex: 239 entries, 0 to 238\n",
      "Data columns (total 8 columns):\n",
      " #   Column         Non-Null Count  Dtype  \n",
      "---  ------         --------------  -----  \n",
      " 0   Date           239 non-null    object \n",
      " 1   Gold_Price     239 non-null    int64  \n",
      " 2   Crude_Oil      239 non-null    float64\n",
      " 3   Interest_Rate  239 non-null    float64\n",
      " 4   USD_INR        239 non-null    float64\n",
      " 5   Sensex         239 non-null    float64\n",
      " 6   CPI            239 non-null    float64\n",
      " 7   USD_Index      239 non-null    float64\n",
      "dtypes: float64(6), int64(1), object(1)\n",
      "memory usage: 15.1+ KB\n"
     ]
    }
   ],
   "source": [
    "gold.info()"
   ]
  },
  {
   "cell_type": "code",
   "execution_count": 8,
   "id": "f9de256b",
   "metadata": {},
   "outputs": [
    {
     "data": {
      "text/plain": [
       "Index(['Date', 'Gold_Price', 'Crude_Oil', 'Interest_Rate', 'USD_INR', 'Sensex',\n",
       "       'CPI', 'USD_Index'],\n",
       "      dtype='object')"
      ]
     },
     "execution_count": 8,
     "metadata": {},
     "output_type": "execute_result"
    }
   ],
   "source": [
    "gold.keys()"
   ]
  },
  {
   "cell_type": "markdown",
   "id": "97bf01e3",
   "metadata": {},
   "source": [
    "# getthing statical mesure of data "
   ]
  },
  {
   "cell_type": "code",
   "execution_count": 9,
   "id": "f81ee0a6",
   "metadata": {},
   "outputs": [
    {
     "data": {
      "text/html": [
       "<div>\n",
       "<style scoped>\n",
       "    .dataframe tbody tr th:only-of-type {\n",
       "        vertical-align: middle;\n",
       "    }\n",
       "\n",
       "    .dataframe tbody tr th {\n",
       "        vertical-align: top;\n",
       "    }\n",
       "\n",
       "    .dataframe thead th {\n",
       "        text-align: right;\n",
       "    }\n",
       "</style>\n",
       "<table border=\"1\" class=\"dataframe\">\n",
       "  <thead>\n",
       "    <tr style=\"text-align: right;\">\n",
       "      <th></th>\n",
       "      <th>Gold_Price</th>\n",
       "      <th>Crude_Oil</th>\n",
       "      <th>Interest_Rate</th>\n",
       "      <th>USD_INR</th>\n",
       "      <th>Sensex</th>\n",
       "      <th>CPI</th>\n",
       "      <th>USD_Index</th>\n",
       "    </tr>\n",
       "  </thead>\n",
       "  <tbody>\n",
       "    <tr>\n",
       "      <th>count</th>\n",
       "      <td>239.000000</td>\n",
       "      <td>239.000000</td>\n",
       "      <td>239.000000</td>\n",
       "      <td>239.000000</td>\n",
       "      <td>239.000000</td>\n",
       "      <td>239.000000</td>\n",
       "      <td>239.000000</td>\n",
       "    </tr>\n",
       "    <tr>\n",
       "      <th>mean</th>\n",
       "      <td>19299.062762</td>\n",
       "      <td>3397.686318</td>\n",
       "      <td>6.715900</td>\n",
       "      <td>53.804819</td>\n",
       "      <td>18172.443891</td>\n",
       "      <td>73.372050</td>\n",
       "      <td>90.182510</td>\n",
       "    </tr>\n",
       "    <tr>\n",
       "      <th>std</th>\n",
       "      <td>11668.913490</td>\n",
       "      <td>1551.627401</td>\n",
       "      <td>1.188309</td>\n",
       "      <td>10.311144</td>\n",
       "      <td>11032.206600</td>\n",
       "      <td>29.106141</td>\n",
       "      <td>11.312607</td>\n",
       "    </tr>\n",
       "    <tr>\n",
       "      <th>min</th>\n",
       "      <td>4267.000000</td>\n",
       "      <td>887.420000</td>\n",
       "      <td>4.250000</td>\n",
       "      <td>39.366685</td>\n",
       "      <td>2811.600000</td>\n",
       "      <td>36.730000</td>\n",
       "      <td>71.800000</td>\n",
       "    </tr>\n",
       "    <tr>\n",
       "      <th>25%</th>\n",
       "      <td>6712.500000</td>\n",
       "      <td>2180.695000</td>\n",
       "      <td>6.000000</td>\n",
       "      <td>45.467395</td>\n",
       "      <td>8263.400000</td>\n",
       "      <td>45.190000</td>\n",
       "      <td>81.110000</td>\n",
       "    </tr>\n",
       "    <tr>\n",
       "      <th>50%</th>\n",
       "      <td>19056.000000</td>\n",
       "      <td>3303.550000</td>\n",
       "      <td>6.000000</td>\n",
       "      <td>48.664774</td>\n",
       "      <td>17464.810000</td>\n",
       "      <td>68.470000</td>\n",
       "      <td>88.940000</td>\n",
       "    </tr>\n",
       "    <tr>\n",
       "      <th>75%</th>\n",
       "      <td>29364.000000</td>\n",
       "      <td>4492.930000</td>\n",
       "      <td>7.000000</td>\n",
       "      <td>63.861030</td>\n",
       "      <td>26662.395000</td>\n",
       "      <td>101.370000</td>\n",
       "      <td>97.160000</td>\n",
       "    </tr>\n",
       "    <tr>\n",
       "      <th>max</th>\n",
       "      <td>52917.000000</td>\n",
       "      <td>6926.830000</td>\n",
       "      <td>10.250000</td>\n",
       "      <td>76.222334</td>\n",
       "      <td>41253.740000</td>\n",
       "      <td>129.300000</td>\n",
       "      <td>120.240000</td>\n",
       "    </tr>\n",
       "  </tbody>\n",
       "</table>\n",
       "</div>"
      ],
      "text/plain": [
       "         Gold_Price    Crude_Oil  Interest_Rate     USD_INR        Sensex  \\\n",
       "count    239.000000   239.000000     239.000000  239.000000    239.000000   \n",
       "mean   19299.062762  3397.686318       6.715900   53.804819  18172.443891   \n",
       "std    11668.913490  1551.627401       1.188309   10.311144  11032.206600   \n",
       "min     4267.000000   887.420000       4.250000   39.366685   2811.600000   \n",
       "25%     6712.500000  2180.695000       6.000000   45.467395   8263.400000   \n",
       "50%    19056.000000  3303.550000       6.000000   48.664774  17464.810000   \n",
       "75%    29364.000000  4492.930000       7.000000   63.861030  26662.395000   \n",
       "max    52917.000000  6926.830000      10.250000   76.222334  41253.740000   \n",
       "\n",
       "              CPI   USD_Index  \n",
       "count  239.000000  239.000000  \n",
       "mean    73.372050   90.182510  \n",
       "std     29.106141   11.312607  \n",
       "min     36.730000   71.800000  \n",
       "25%     45.190000   81.110000  \n",
       "50%     68.470000   88.940000  \n",
       "75%    101.370000   97.160000  \n",
       "max    129.300000  120.240000  "
      ]
     },
     "execution_count": 9,
     "metadata": {},
     "output_type": "execute_result"
    }
   ],
   "source": [
    "gold.describe()"
   ]
  },
  {
   "cell_type": "code",
   "execution_count": 10,
   "id": "9aad5b0f",
   "metadata": {},
   "outputs": [
    {
     "data": {
      "text/plain": [
       "Date             0\n",
       "Gold_Price       0\n",
       "Crude_Oil        0\n",
       "Interest_Rate    0\n",
       "USD_INR          0\n",
       "Sensex           0\n",
       "CPI              0\n",
       "USD_Index        0\n",
       "dtype: int64"
      ]
     },
     "execution_count": 10,
     "metadata": {},
     "output_type": "execute_result"
    }
   ],
   "source": [
    "gold.isnull().sum()"
   ]
  },
  {
   "cell_type": "markdown",
   "id": "20f6ba23",
   "metadata": {},
   "source": [
    "# Correlation:\n",
    "\n",
    "#Positive Relation\n",
    "#Negative Relation"
   ]
  },
  {
   "cell_type": "code",
   "execution_count": 11,
   "id": "b96eb563",
   "metadata": {},
   "outputs": [],
   "source": [
    "correlation = gold.corr()"
   ]
  },
  {
   "cell_type": "markdown",
   "id": "2a2bc495",
   "metadata": {},
   "source": [
    "# Construting the heatmap to understand the correlation "
   ]
  },
  {
   "cell_type": "code",
   "execution_count": 12,
   "id": "ebed99f1",
   "metadata": {},
   "outputs": [
    {
     "data": {
      "text/plain": [
       "<AxesSubplot:>"
      ]
     },
     "execution_count": 12,
     "metadata": {},
     "output_type": "execute_result"
    },
    {
     "data": {
      "image/png": "[encoded data removed]",
      "text/plain": [
       "<Figure size 576x576 with 2 Axes>"
      ]
     },
     "metadata": {
      "needs_background": "light"
     },
     "output_type": "display_data"
    }
   ],
   "source": [
    "plt.figure(figsize = (8,8)) \n",
    "sns.heatmap(correlation, cbar=True, square=True, fmt='.1f', annot=True, annot_kws={'size':8}, cmap='Blues')"
   ]
  },
  {
   "cell_type": "code",
   "execution_count": 13,
   "id": "e4b264d0",
   "metadata": {},
   "outputs": [
    {
     "name": "stdout",
     "output_type": "stream",
     "text": [
      "Gold_Price       1.000000\n",
      "Crude_Oil        0.661690\n",
      "Interest_Rate    0.241996\n",
      "USD_INR          0.855555\n",
      "Sensex           0.897490\n",
      "CPI              0.959048\n",
      "USD_Index       -0.132789\n",
      "Name: Gold_Price, dtype: float64\n"
     ]
    }
   ],
   "source": [
    "print(correlation['Gold_Price'])"
   ]
  },
  {
   "cell_type": "markdown",
   "id": "097b1d46",
   "metadata": {},
   "source": [
    "# Checking the distribution of the Gold price"
   ]
  },
  {
   "cell_type": "code",
   "execution_count": 14,
   "id": "b830b54d",
   "metadata": {},
   "outputs": [
    {
     "data": {
      "text/plain": [
       "<seaborn.axisgrid.FacetGrid at 0x1c7d1e02370>"
      ]
     },
     "execution_count": 14,
     "metadata": {},
     "output_type": "execute_result"
    },
    {
     "data": {
      "image/png": "[encoded data removed]",
      "text/plain": [
       "<Figure size 360x360 with 1 Axes>"
      ]
     },
     "metadata": {
      "needs_background": "light"
     },
     "output_type": "display_data"
    }
   ],
   "source": [
    "sns.displot(gold['Gold_Price'], color='red')"
   ]
  },
  {
   "cell_type": "markdown",
   "id": "766786a8",
   "metadata": {},
   "source": [
    "# Splitting the Freatures and Target\n"
   ]
  },
  {
   "cell_type": "code",
   "execution_count": 15,
   "id": "cbe8e1ba",
   "metadata": {},
   "outputs": [],
   "source": [
    "# Seperating X (independent) and y (dependent) variables:\n",
    "X = gold.drop(['Date','Gold_Price'], axis=1)\n",
    "Y = gold['Gold_Price']"
   ]
  },
  {
   "cell_type": "markdown",
   "id": "2e09a0f2",
   "metadata": {},
   "source": [
    "# print(X)"
   ]
  },
  {
   "cell_type": "code",
   "execution_count": 16,
   "id": "ef3b99f8",
   "metadata": {},
   "outputs": [
    {
     "name": "stdout",
     "output_type": "stream",
     "text": [
      "     Crude_Oil  Interest_Rate    USD_INR    Sensex     CPI  USD_Index\n",
      "0      1455.51           8.00  46.318297   3711.02   37.23     116.65\n",
      "1      1512.47           8.00  46.783613   3997.99   37.31     115.24\n",
      "2      1178.11           8.00  46.745856   3972.12   36.98     109.56\n",
      "3      1208.18           8.00  46.536033   4326.72   36.90     110.52\n",
      "4      1267.18           7.50  46.514595   4247.04   36.73     112.01\n",
      "..         ...            ...        ...       ...     ...        ...\n",
      "234    1603.02           4.65  76.222334  33717.62  125.85      99.57\n",
      "235    2298.55           4.25  75.666063  32424.10  126.24      98.34\n",
      "236    2987.46           4.25  75.763427  34915.80  127.00      97.39\n",
      "237    3156.01           4.25  74.908993  37606.89  128.53      93.35\n",
      "238    3243.75           4.25  74.573820  38628.29  129.30      92.14\n",
      "\n",
      "[239 rows x 6 columns]\n"
     ]
    }
   ],
   "source": [
    "print(X)"
   ]
  },
  {
   "cell_type": "code",
   "execution_count": 17,
   "id": "fe77618f",
   "metadata": {},
   "outputs": [
    {
     "data": {
      "text/html": [
       "<div>\n",
       "<style scoped>\n",
       "    .dataframe tbody tr th:only-of-type {\n",
       "        vertical-align: middle;\n",
       "    }\n",
       "\n",
       "    .dataframe tbody tr th {\n",
       "        vertical-align: top;\n",
       "    }\n",
       "\n",
       "    .dataframe thead th {\n",
       "        text-align: right;\n",
       "    }\n",
       "</style>\n",
       "<table border=\"1\" class=\"dataframe\">\n",
       "  <thead>\n",
       "    <tr style=\"text-align: right;\">\n",
       "      <th></th>\n",
       "      <th>Crude_Oil</th>\n",
       "      <th>Interest_Rate</th>\n",
       "      <th>USD_INR</th>\n",
       "      <th>Sensex</th>\n",
       "      <th>CPI</th>\n",
       "      <th>USD_Index</th>\n",
       "    </tr>\n",
       "  </thead>\n",
       "  <tbody>\n",
       "    <tr>\n",
       "      <th>0</th>\n",
       "      <td>1455.51</td>\n",
       "      <td>8.00</td>\n",
       "      <td>46.318297</td>\n",
       "      <td>3711.02</td>\n",
       "      <td>37.23</td>\n",
       "      <td>116.65</td>\n",
       "    </tr>\n",
       "    <tr>\n",
       "      <th>1</th>\n",
       "      <td>1512.47</td>\n",
       "      <td>8.00</td>\n",
       "      <td>46.783613</td>\n",
       "      <td>3997.99</td>\n",
       "      <td>37.31</td>\n",
       "      <td>115.24</td>\n",
       "    </tr>\n",
       "    <tr>\n",
       "      <th>2</th>\n",
       "      <td>1178.11</td>\n",
       "      <td>8.00</td>\n",
       "      <td>46.745856</td>\n",
       "      <td>3972.12</td>\n",
       "      <td>36.98</td>\n",
       "      <td>109.56</td>\n",
       "    </tr>\n",
       "    <tr>\n",
       "      <th>3</th>\n",
       "      <td>1208.18</td>\n",
       "      <td>8.00</td>\n",
       "      <td>46.536033</td>\n",
       "      <td>4326.72</td>\n",
       "      <td>36.90</td>\n",
       "      <td>110.52</td>\n",
       "    </tr>\n",
       "    <tr>\n",
       "      <th>4</th>\n",
       "      <td>1267.18</td>\n",
       "      <td>7.50</td>\n",
       "      <td>46.514595</td>\n",
       "      <td>4247.04</td>\n",
       "      <td>36.73</td>\n",
       "      <td>112.01</td>\n",
       "    </tr>\n",
       "    <tr>\n",
       "      <th>...</th>\n",
       "      <td>...</td>\n",
       "      <td>...</td>\n",
       "      <td>...</td>\n",
       "      <td>...</td>\n",
       "      <td>...</td>\n",
       "      <td>...</td>\n",
       "    </tr>\n",
       "    <tr>\n",
       "      <th>234</th>\n",
       "      <td>1603.02</td>\n",
       "      <td>4.65</td>\n",
       "      <td>76.222334</td>\n",
       "      <td>33717.62</td>\n",
       "      <td>125.85</td>\n",
       "      <td>99.57</td>\n",
       "    </tr>\n",
       "    <tr>\n",
       "      <th>235</th>\n",
       "      <td>2298.55</td>\n",
       "      <td>4.25</td>\n",
       "      <td>75.666063</td>\n",
       "      <td>32424.10</td>\n",
       "      <td>126.24</td>\n",
       "      <td>98.34</td>\n",
       "    </tr>\n",
       "    <tr>\n",
       "      <th>236</th>\n",
       "      <td>2987.46</td>\n",
       "      <td>4.25</td>\n",
       "      <td>75.763427</td>\n",
       "      <td>34915.80</td>\n",
       "      <td>127.00</td>\n",
       "      <td>97.39</td>\n",
       "    </tr>\n",
       "    <tr>\n",
       "      <th>237</th>\n",
       "      <td>3156.01</td>\n",
       "      <td>4.25</td>\n",
       "      <td>74.908993</td>\n",
       "      <td>37606.89</td>\n",
       "      <td>128.53</td>\n",
       "      <td>93.35</td>\n",
       "    </tr>\n",
       "    <tr>\n",
       "      <th>238</th>\n",
       "      <td>3243.75</td>\n",
       "      <td>4.25</td>\n",
       "      <td>74.573820</td>\n",
       "      <td>38628.29</td>\n",
       "      <td>129.30</td>\n",
       "      <td>92.14</td>\n",
       "    </tr>\n",
       "  </tbody>\n",
       "</table>\n",
       "<p>239 rows × 6 columns</p>\n",
       "</div>"
      ],
      "text/plain": [
       "     Crude_Oil  Interest_Rate    USD_INR    Sensex     CPI  USD_Index\n",
       "0      1455.51           8.00  46.318297   3711.02   37.23     116.65\n",
       "1      1512.47           8.00  46.783613   3997.99   37.31     115.24\n",
       "2      1178.11           8.00  46.745856   3972.12   36.98     109.56\n",
       "3      1208.18           8.00  46.536033   4326.72   36.90     110.52\n",
       "4      1267.18           7.50  46.514595   4247.04   36.73     112.01\n",
       "..         ...            ...        ...       ...     ...        ...\n",
       "234    1603.02           4.65  76.222334  33717.62  125.85      99.57\n",
       "235    2298.55           4.25  75.666063  32424.10  126.24      98.34\n",
       "236    2987.46           4.25  75.763427  34915.80  127.00      97.39\n",
       "237    3156.01           4.25  74.908993  37606.89  128.53      93.35\n",
       "238    3243.75           4.25  74.573820  38628.29  129.30      92.14\n",
       "\n",
       "[239 rows x 6 columns]"
      ]
     },
     "execution_count": 17,
     "metadata": {},
     "output_type": "execute_result"
    }
   ],
   "source": [
    "df_2=pd.DataFrame(X,columns=['Crude_Oil','Interest_Rate','USD_INR','Sensex','CPI','USD_Index'])\n",
    "df_2"
   ]
  },
  {
   "cell_type": "code",
   "execution_count": 18,
   "id": "1e218660",
   "metadata": {},
   "outputs": [
    {
     "name": "stdout",
     "output_type": "stream",
     "text": [
      "0       4538\n",
      "1       4483\n",
      "2       4541\n",
      "3       4466\n",
      "4       4370\n",
      "       ...  \n",
      "234    45504\n",
      "235    46343\n",
      "236    47315\n",
      "237    49878\n",
      "238    52917\n",
      "Name: Gold_Price, Length: 239, dtype: int64\n"
     ]
    }
   ],
   "source": [
    "print(Y)"
   ]
  },
  {
   "cell_type": "markdown",
   "id": "ab082eaa",
   "metadata": {},
   "source": [
    "# Feature Scaling"
   ]
  },
  {
   "cell_type": "code",
   "execution_count": 19,
   "id": "b0d5f8d3",
   "metadata": {},
   "outputs": [],
   "source": [
    "numeric_features = ['Crude_Oil','Interest_Rate','USD_INR','Sensex','CPI','USD_Index'] "
   ]
  },
  {
   "cell_type": "code",
   "execution_count": 20,
   "id": "8a20882d",
   "metadata": {},
   "outputs": [],
   "source": [
    "numeric_transformer = StandardScaler()"
   ]
  },
  {
   "cell_type": "code",
   "execution_count": 21,
   "id": "fc17dfda",
   "metadata": {},
   "outputs": [],
   "source": [
    "preprocessor = ColumnTransformer(transformers=[('numeric_feature', numeric_transformer, numeric_features)])"
   ]
  },
  {
   "cell_type": "code",
   "execution_count": 22,
   "id": "72d339e8",
   "metadata": {},
   "outputs": [],
   "source": [
    "X_transformed = preprocessor.fit_transform(X)"
   ]
  },
  {
   "cell_type": "code",
   "execution_count": 23,
   "id": "2e333c1a",
   "metadata": {},
   "outputs": [
    {
     "name": "stdout",
     "output_type": "stream",
     "text": [
      "[[-1.25432964  1.08287943 -0.72758503 -1.31358791 -1.24433877  2.34455556]\n",
      " [-1.21754276  1.08287943 -0.68236284 -1.2875213  -1.24158444  2.21965428]\n",
      " [-1.43348487  1.08287943 -0.68603229 -1.28987117 -1.25294605  1.71650586]\n",
      " ...\n",
      " [-0.2649394  -2.07948841  2.13406893  1.52086477  1.8463628   0.63845722]\n",
      " [-0.15608355 -2.07948841  2.05102992  1.76530704  1.89903934  0.28058404]\n",
      " [-0.09941779 -2.07948841  2.0184558   1.85808481  1.92554976  0.17339926]]\n"
     ]
    }
   ],
   "source": [
    "print(X_transformed)"
   ]
  },
  {
   "cell_type": "code",
   "execution_count": 24,
   "id": "72cfe018",
   "metadata": {},
   "outputs": [
    {
     "data": {
      "text/plain": [
       "3.567578589590461e-16"
      ]
     },
     "execution_count": 24,
     "metadata": {},
     "output_type": "execute_result"
    }
   ],
   "source": [
    "X_transformed.mean()"
   ]
  },
  {
   "cell_type": "code",
   "execution_count": 25,
   "id": "44762575",
   "metadata": {},
   "outputs": [
    {
     "data": {
      "text/plain": [
       "1.0"
      ]
     },
     "execution_count": 25,
     "metadata": {},
     "output_type": "execute_result"
    }
   ],
   "source": [
    "X_transformed.std()"
   ]
  },
  {
   "cell_type": "code",
   "execution_count": 26,
   "id": "dcf92975",
   "metadata": {},
   "outputs": [],
   "source": [
    "df_1=pd.DataFrame(X_transformed,columns=['Crude_Oil','Interest_Rate','USD_INR','Sensex','CPI','USD_Index'])"
   ]
  },
  {
   "cell_type": "code",
   "execution_count": 27,
   "id": "833a1d3e",
   "metadata": {},
   "outputs": [
    {
     "data": {
      "text/html": [
       "<div>\n",
       "<style scoped>\n",
       "    .dataframe tbody tr th:only-of-type {\n",
       "        vertical-align: middle;\n",
       "    }\n",
       "\n",
       "    .dataframe tbody tr th {\n",
       "        vertical-align: top;\n",
       "    }\n",
       "\n",
       "    .dataframe thead th {\n",
       "        text-align: right;\n",
       "    }\n",
       "</style>\n",
       "<table border=\"1\" class=\"dataframe\">\n",
       "  <thead>\n",
       "    <tr style=\"text-align: right;\">\n",
       "      <th></th>\n",
       "      <th>Crude_Oil</th>\n",
       "      <th>Interest_Rate</th>\n",
       "      <th>USD_INR</th>\n",
       "      <th>Sensex</th>\n",
       "      <th>CPI</th>\n",
       "      <th>USD_Index</th>\n",
       "    </tr>\n",
       "  </thead>\n",
       "  <tbody>\n",
       "    <tr>\n",
       "      <th>0</th>\n",
       "      <td>-1.254330</td>\n",
       "      <td>1.082879</td>\n",
       "      <td>-0.727585</td>\n",
       "      <td>-1.313588</td>\n",
       "      <td>-1.244339</td>\n",
       "      <td>2.344556</td>\n",
       "    </tr>\n",
       "    <tr>\n",
       "      <th>1</th>\n",
       "      <td>-1.217543</td>\n",
       "      <td>1.082879</td>\n",
       "      <td>-0.682363</td>\n",
       "      <td>-1.287521</td>\n",
       "      <td>-1.241584</td>\n",
       "      <td>2.219654</td>\n",
       "    </tr>\n",
       "    <tr>\n",
       "      <th>2</th>\n",
       "      <td>-1.433485</td>\n",
       "      <td>1.082879</td>\n",
       "      <td>-0.686032</td>\n",
       "      <td>-1.289871</td>\n",
       "      <td>-1.252946</td>\n",
       "      <td>1.716506</td>\n",
       "    </tr>\n",
       "    <tr>\n",
       "      <th>3</th>\n",
       "      <td>-1.414065</td>\n",
       "      <td>1.082879</td>\n",
       "      <td>-0.706424</td>\n",
       "      <td>-1.257661</td>\n",
       "      <td>-1.255700</td>\n",
       "      <td>1.801545</td>\n",
       "    </tr>\n",
       "    <tr>\n",
       "      <th>4</th>\n",
       "      <td>-1.375960</td>\n",
       "      <td>0.661230</td>\n",
       "      <td>-0.708508</td>\n",
       "      <td>-1.264899</td>\n",
       "      <td>-1.261553</td>\n",
       "      <td>1.933533</td>\n",
       "    </tr>\n",
       "    <tr>\n",
       "      <th>...</th>\n",
       "      <td>...</td>\n",
       "      <td>...</td>\n",
       "      <td>...</td>\n",
       "      <td>...</td>\n",
       "      <td>...</td>\n",
       "      <td>...</td>\n",
       "    </tr>\n",
       "    <tr>\n",
       "      <th>234</th>\n",
       "      <td>-1.159062</td>\n",
       "      <td>-1.742169</td>\n",
       "      <td>2.178668</td>\n",
       "      <td>1.412029</td>\n",
       "      <td>1.806769</td>\n",
       "      <td>0.831567</td>\n",
       "    </tr>\n",
       "    <tr>\n",
       "      <th>235</th>\n",
       "      <td>-0.709863</td>\n",
       "      <td>-2.079488</td>\n",
       "      <td>2.124607</td>\n",
       "      <td>1.294534</td>\n",
       "      <td>1.820197</td>\n",
       "      <td>0.722611</td>\n",
       "    </tr>\n",
       "    <tr>\n",
       "      <th>236</th>\n",
       "      <td>-0.264939</td>\n",
       "      <td>-2.079488</td>\n",
       "      <td>2.134069</td>\n",
       "      <td>1.520865</td>\n",
       "      <td>1.846363</td>\n",
       "      <td>0.638457</td>\n",
       "    </tr>\n",
       "    <tr>\n",
       "      <th>237</th>\n",
       "      <td>-0.156084</td>\n",
       "      <td>-2.079488</td>\n",
       "      <td>2.051030</td>\n",
       "      <td>1.765307</td>\n",
       "      <td>1.899039</td>\n",
       "      <td>0.280584</td>\n",
       "    </tr>\n",
       "    <tr>\n",
       "      <th>238</th>\n",
       "      <td>-0.099418</td>\n",
       "      <td>-2.079488</td>\n",
       "      <td>2.018456</td>\n",
       "      <td>1.858085</td>\n",
       "      <td>1.925550</td>\n",
       "      <td>0.173399</td>\n",
       "    </tr>\n",
       "  </tbody>\n",
       "</table>\n",
       "<p>239 rows × 6 columns</p>\n",
       "</div>"
      ],
      "text/plain": [
       "     Crude_Oil  Interest_Rate   USD_INR    Sensex       CPI  USD_Index\n",
       "0    -1.254330       1.082879 -0.727585 -1.313588 -1.244339   2.344556\n",
       "1    -1.217543       1.082879 -0.682363 -1.287521 -1.241584   2.219654\n",
       "2    -1.433485       1.082879 -0.686032 -1.289871 -1.252946   1.716506\n",
       "3    -1.414065       1.082879 -0.706424 -1.257661 -1.255700   1.801545\n",
       "4    -1.375960       0.661230 -0.708508 -1.264899 -1.261553   1.933533\n",
       "..         ...            ...       ...       ...       ...        ...\n",
       "234  -1.159062      -1.742169  2.178668  1.412029  1.806769   0.831567\n",
       "235  -0.709863      -2.079488  2.124607  1.294534  1.820197   0.722611\n",
       "236  -0.264939      -2.079488  2.134069  1.520865  1.846363   0.638457\n",
       "237  -0.156084      -2.079488  2.051030  1.765307  1.899039   0.280584\n",
       "238  -0.099418      -2.079488  2.018456  1.858085  1.925550   0.173399\n",
       "\n",
       "[239 rows x 6 columns]"
      ]
     },
     "execution_count": 27,
     "metadata": {},
     "output_type": "execute_result"
    }
   ],
   "source": [
    "df_1"
   ]
  },
  {
   "cell_type": "code",
   "execution_count": 28,
   "id": "2016ec51",
   "metadata": {},
   "outputs": [
    {
     "data": {
      "image/png": "[encoded data removed]",
      "text/plain": [
       "<Figure size 432x288 with 1 Axes>"
      ]
     },
     "metadata": {
      "needs_background": "light"
     },
     "output_type": "display_data"
    }
   ],
   "source": [
    " #Assuming you have a DataFrame named 'df_1' with the columns you want to plot\n",
    "\n",
    "# Define symbols for each column\n",
    "symbols = ['o', 's', 'D', '^', 'v','x']  \n",
    "# Plotting each column with a unique symbol\n",
    "for i, column in enumerate(df_1.columns):\n",
    "    plt.scatter(df_1.index, df_1[column], marker=symbols[i % len(symbols)], label=column)\n",
    "\n",
    "# Set labels and title\n",
    "plt.xlabel('Index')\n",
    "plt.ylabel('Values')\n",
    "plt.title('Scatter Plot of Multiple Columns:after transform' )\n",
    "# Show the legend\n",
    "plt.legend()\n",
    "# Display the plot\n",
    "plt.show()"
   ]
  },
  {
   "cell_type": "code",
   "execution_count": 29,
   "id": "e71ae278",
   "metadata": {},
   "outputs": [
    {
     "data": {
      "image/png": "[encoded data removed]",
      "text/plain": [
       "<Figure size 432x288 with 1 Axes>"
      ]
     },
     "metadata": {
      "needs_background": "light"
     },
     "output_type": "display_data"
    }
   ],
   "source": [
    " #Assuming you have a DataFrame named 'df_1' with the columns you want to plot\n",
    "\n",
    "# Define symbols for each column\n",
    "symbols = ['o', 's', 'D', '^', 'v','x']  \n",
    "# Create the second scatter plot\n",
    "for j, column in enumerate(df_2.columns):  # Change the range to select the desired columns\n",
    "    plt.scatter(df_2.index, df_2[column], marker=symbols[j % len(symbols)], label=column)\n",
    "\n",
    "# Set labels and title\n",
    "plt.xlabel('Index')\n",
    "plt.ylabel('Values')\n",
    "plt.title('Scatter Plot of Multiple Columns:before transform' )\n",
    "\n",
    "# Show the legend\n",
    "plt.legend()\n",
    "\n",
    "# Display the plot\n",
    "plt.show()"
   ]
  },
  {
   "cell_type": "markdown",
   "id": "2cd0352d",
   "metadata": {},
   "source": [
    "# Splitting into Train data and Test data"
   ]
  },
  {
   "cell_type": "code",
   "execution_count": 30,
   "id": "2a8cd374",
   "metadata": {},
   "outputs": [],
   "source": [
    "X_train, X_test, Y_train , Y_test = train_test_split(X, Y, test_size=0.2, random_state=42)"
   ]
  },
  {
   "cell_type": "markdown",
   "id": "1f28beb9",
   "metadata": {},
   "source": [
    "# Model Training : Randome Forest Regression"
   ]
  },
  {
   "cell_type": "code",
   "execution_count": 31,
   "id": "39a4a4b7",
   "metadata": {},
   "outputs": [],
   "source": [
    "regressor = RandomForestRegressor(n_estimators=100)"
   ]
  },
  {
   "cell_type": "markdown",
   "id": "fc4739b0",
   "metadata": {},
   "source": [
    "# Training the model "
   ]
  },
  {
   "cell_type": "code",
   "execution_count": 32,
   "id": "3800a1c9",
   "metadata": {},
   "outputs": [
    {
     "data": {
      "text/plain": [
       "RandomForestRegressor()"
      ]
     },
     "execution_count": 32,
     "metadata": {},
     "output_type": "execute_result"
    }
   ],
   "source": [
    "regressor.fit(X_train,Y_train)"
   ]
  },
  {
   "cell_type": "markdown",
   "id": "c1816b25",
   "metadata": {},
   "source": [
    "# Model Evalution"
   ]
  },
  {
   "cell_type": "markdown",
   "id": "8ad5b307",
   "metadata": {},
   "source": [
    "# Prediction on test data "
   ]
  },
  {
   "cell_type": "code",
   "execution_count": 33,
   "id": "8f437be7",
   "metadata": {},
   "outputs": [],
   "source": [
    "test_data_prediction = regressor.predict(X_test)"
   ]
  },
  {
   "cell_type": "code",
   "execution_count": 34,
   "id": "1423dfe8",
   "metadata": {},
   "outputs": [
    {
     "name": "stdout",
     "output_type": "stream",
     "text": [
      "[ 5207.66  4478.04 12089.62 17055.89 14505.73 26778.23 29445.03 10256.41\n",
      "  4486.47 29488.11  6119.39 30056.91 17497.4  28223.07 17436.35 39737.31\n",
      " 26199.77  4787.21 31971.33 20978.63 21934.73  4969.99 44390.41  5466.85\n",
      " 26493.86 30432.65  4550.51 27605.15 45798.7  28784.79 13902.44 30304.77\n",
      "  5378.26 26195.01  4921.12  9227.87 30564.08  6182.11  8941.56 28553.34\n",
      " 37295.33 17074.13 28655.81  4853.23 30051.64  8743.39 29415.56  6066.46]\n"
     ]
    }
   ],
   "source": [
    "print(test_data_prediction)"
   ]
  },
  {
   "cell_type": "markdown",
   "id": "ec4c9ded",
   "metadata": {},
   "source": [
    "# # Model accuracy and Performance"
   ]
  },
  {
   "cell_type": "code",
   "execution_count": 35,
   "id": "206d0047",
   "metadata": {},
   "outputs": [
    {
     "name": "stdout",
     "output_type": "stream",
     "text": [
      "R Squared error : 0.9956351715409509\n"
     ]
    }
   ],
   "source": [
    "error_score = metrics.r2_score(Y_test, test_data_prediction)\n",
    "print(\"R Squared error :\", error_score)"
   ]
  },
  {
   "cell_type": "markdown",
   "id": "64b10912",
   "metadata": {},
   "source": [
    "# Mean_squared_error,Mean_absolute_error,Mean_absolute_percentage_error"
   ]
  },
  {
   "cell_type": "code",
   "execution_count": 36,
   "id": "d791181e",
   "metadata": {},
   "outputs": [
    {
     "name": "stdout",
     "output_type": "stream",
     "text": [
      "MSE(mean_squared_error():  637355.7438604165\n",
      "MAE(mean_absolute_error):  578.9564583333332\n",
      "MAPE(mean_absolute_percentage_error):  0.028950097483264537\n"
     ]
    }
   ],
   "source": [
    "mse = mean_squared_error(Y_test,test_data_prediction)\n",
    "mae = mean_absolute_error(Y_test,test_data_prediction)\n",
    "mape = mean_absolute_percentage_error(Y_test,test_data_prediction)\n",
    "print('MSE(mean_squared_error(): ',mse)\n",
    "print('MAE(mean_absolute_error): ',mae)\n",
    "print('MAPE(mean_absolute_percentage_error): ',mape)"
   ]
  },
  {
   "cell_type": "markdown",
   "id": "cc85a75f",
   "metadata": {},
   "source": [
    "# Calculate the Accuracy score"
   ]
  },
  {
   "cell_type": "code",
   "execution_count": 37,
   "id": "53aff9ce",
   "metadata": {},
   "outputs": [
    {
     "name": "stdout",
     "output_type": "stream",
     "text": [
      "Random forest Regression Model Accuracy: 99.97104990251674\n"
     ]
    }
   ],
   "source": [
    "accuracy=(100-mape)\n",
    "print(\"Random forest Regression Model Accuracy:\", accuracy)"
   ]
  },
  {
   "cell_type": "code",
   "execution_count": 38,
   "id": "f4374fce",
   "metadata": {},
   "outputs": [],
   "source": [
    "Y_test = list(Y_test)"
   ]
  },
  {
   "cell_type": "code",
   "execution_count": 39,
   "id": "db4144a1",
   "metadata": {},
   "outputs": [
    {
     "name": "stdout",
     "output_type": "stream",
     "text": [
      "[5210, 4267, 13028, 17057, 14639, 27075, 28823, 10311, 4380, 30180, 6059, 29399, 16693, 26963, 16614, 38122, 28252, 4693, 33217, 20835, 22130, 5226, 45504, 5192, 27093, 31251, 4449, 28818, 47315, 27178, 12691, 30097, 5243, 25648, 5041, 9559, 31116, 6030, 8878, 29265, 37356, 16525, 27743, 4901, 30473, 8985, 27427, 6094]\n"
     ]
    }
   ],
   "source": [
    "print(Y_test)"
   ]
  },
  {
   "cell_type": "markdown",
   "id": "beac3662",
   "metadata": {},
   "source": [
    "# Visualization of actual and predicted data"
   ]
  },
  {
   "cell_type": "code",
   "execution_count": 40,
   "id": "1871ef8c",
   "metadata": {},
   "outputs": [
    {
     "data": {
      "image/png": "[encoded data removed]",
      "text/plain": [
       "<Figure size 432x288 with 1 Axes>"
      ]
     },
     "metadata": {
      "needs_background": "light"
     },
     "output_type": "display_data"
    }
   ],
   "source": [
    "plt.plot(Y_test, color='blue' , label = 'Actual Values')\n",
    "plt.plot(test_data_prediction, color='green', label='Predicted Values')\n",
    "plt.title('Actual Price VS Predicted Price')\n",
    "plt.xlabel('Number of values')\n",
    "plt.ylabel('Gold_Price')\n",
    "plt.legend()\n",
    "plt.show()"
   ]
  },
  {
   "cell_type": "code",
   "execution_count": 41,
   "id": "d3c5cc3b",
   "metadata": {},
   "outputs": [
    {
     "data": {
      "text/plain": [
       "array([ 5207.66,  4478.04, 12089.62, 17055.89, 14505.73, 26778.23,\n",
       "       29445.03, 10256.41,  4486.47, 29488.11,  6119.39, 30056.91,\n",
       "       17497.4 , 28223.07, 17436.35, 39737.31, 26199.77,  4787.21,\n",
       "       31971.33, 20978.63, 21934.73,  4969.99, 44390.41,  5466.85,\n",
       "       26493.86, 30432.65,  4550.51, 27605.15, 45798.7 , 28784.79,\n",
       "       13902.44, 30304.77,  5378.26, 26195.01,  4921.12,  9227.87,\n",
       "       30564.08,  6182.11,  8941.56, 28553.34, 37295.33, 17074.13,\n",
       "       28655.81,  4853.23, 30051.64,  8743.39, 29415.56,  6066.46])"
      ]
     },
     "execution_count": 41,
     "metadata": {},
     "output_type": "execute_result"
    }
   ],
   "source": [
    "pd.to_numeric(test_data_prediction)"
   ]
  },
  {
   "cell_type": "code",
   "execution_count": 42,
   "id": "1c8520a1",
   "metadata": {},
   "outputs": [
    {
     "name": "stdout",
     "output_type": "stream",
     "text": [
      "    Predicted gold price\n",
      "0                5207.66\n",
      "1                4478.04\n",
      "2               12089.62\n",
      "3               17055.89\n",
      "4               14505.73\n",
      "5               26778.23\n",
      "6               29445.03\n",
      "7               10256.41\n",
      "8                4486.47\n",
      "9               29488.11\n",
      "10               6119.39\n",
      "11              30056.91\n",
      "12              17497.40\n",
      "13              28223.07\n",
      "14              17436.35\n",
      "15              39737.31\n",
      "16              26199.77\n",
      "17               4787.21\n",
      "18              31971.33\n",
      "19              20978.63\n",
      "20              21934.73\n",
      "21               4969.99\n",
      "22              44390.41\n",
      "23               5466.85\n",
      "24              26493.86\n",
      "25              30432.65\n",
      "26               4550.51\n",
      "27              27605.15\n",
      "28              45798.70\n",
      "29              28784.79\n",
      "30              13902.44\n",
      "31              30304.77\n",
      "32               5378.26\n",
      "33              26195.01\n",
      "34               4921.12\n",
      "35               9227.87\n",
      "36              30564.08\n",
      "37               6182.11\n",
      "38               8941.56\n",
      "39              28553.34\n",
      "40              37295.33\n",
      "41              17074.13\n",
      "42              28655.81\n",
      "43               4853.23\n",
      "44              30051.64\n",
      "45               8743.39\n",
      "46              29415.56\n",
      "47               6066.46\n"
     ]
    }
   ],
   "source": [
    "df=pd.DataFrame(test_data_prediction, columns=['Predicted gold price'])\n",
    "print(df)"
   ]
  },
  {
   "cell_type": "markdown",
   "id": "d529f71a",
   "metadata": {},
   "source": [
    "# Hyperparameters and their possible values for tuning"
   ]
  },
  {
   "cell_type": "code",
   "execution_count": 43,
   "id": "98a25bb4",
   "metadata": {},
   "outputs": [
    {
     "name": "stdout",
     "output_type": "stream",
     "text": [
      "Best Hyperparameters:  {'max_depth': 10, 'min_samples_leaf': 1, 'min_samples_split': 2, 'n_estimators': 200}\n",
      "Best Score:  0.9928198164992361\n",
      "R-squared score:  0.9961614700673176\n"
     ]
    }
   ],
   "source": [
    "param_grid = {\n",
    "    'n_estimators': [150, 200, 300],  # Number of trees in the random forest\n",
    "    'max_depth': [4, 5, 10],  # Maximum depth of each tree\n",
    "    'min_samples_split': [2, 5, 10],  # Minimum number of samples required to split an internal node\n",
    "    'min_samples_leaf': [1, 2, 4],  # Minimum number of samples required to be at a leaf node\n",
    "}\n",
    "\n",
    "# Perform grid search with cross-validation\n",
    "grid_search = GridSearchCV(estimator=regressor, param_grid=param_grid, cv=5, scoring='r2')\n",
    "grid_search.fit(X_train, Y_train)\n",
    "\n",
    "# Get the best hyperparameters and corresponding score\n",
    "best_params = grid_search.best_params_\n",
    "best_score = grid_search.best_score_\n",
    "\n",
    "# Train the model with the best hyperparameters\n",
    "best_model = RandomForestRegressor(**best_params)\n",
    "best_model.fit(X_train, Y_train)\n",
    "\n",
    "# Make predictions on the testing set using the best model\n",
    "Y_pred = best_model.predict(X_test)\n",
    "\n",
    "# Calculate the R-squared score of the best model\n",
    "r2 = r2_score(Y_test, Y_pred)\n",
    "\n",
    "# Print the best hyperparameters and the corresponding score\n",
    "print(\"Best Hyperparameters: \", best_params)\n",
    "print(\"Best Score: \", best_score)\n",
    "print(\"R-squared score: \", r2)"
   ]
  },
  {
   "cell_type": "code",
   "execution_count": 44,
   "id": "7b03aa6d",
   "metadata": {},
   "outputs": [],
   "source": [
    "regressor1 = RandomForestRegressor(n_estimators=200)"
   ]
  },
  {
   "cell_type": "code",
   "execution_count": 45,
   "id": "eabc629b",
   "metadata": {},
   "outputs": [
    {
     "data": {
      "text/plain": [
       "RandomForestRegressor(n_estimators=200)"
      ]
     },
     "execution_count": 45,
     "metadata": {},
     "output_type": "execute_result"
    }
   ],
   "source": [
    "regressor1.fit(X_train,Y_train)"
   ]
  },
  {
   "cell_type": "code",
   "execution_count": 46,
   "id": "384f7df0",
   "metadata": {},
   "outputs": [],
   "source": [
    "test_data_prediction_1 = regressor1.predict(X_test)"
   ]
  },
  {
   "cell_type": "code",
   "execution_count": 47,
   "id": "7bc7aa20",
   "metadata": {},
   "outputs": [
    {
     "name": "stdout",
     "output_type": "stream",
     "text": [
      "[ 5204.16   4469.325 12078.35  16877.705 14576.07  26755.24  29470.37\n",
      " 10249.25   4474.71  29565.17   6094.625 30120.655 17520.445 28136.505\n",
      " 17478.35  39803.23  26658.05   4776.81  31730.35  20809.37  21810.735\n",
      "  5010.715 45210.3    5473.9   26504.08  30430.565  4530.18  27832.18\n",
      " 46672.165 28776.42  13989.96  30512.715  5345.71  26102.815  4927.115\n",
      "  9176.82  30618.305  6153.36   8979.62  28733.08  37319.765 17189.815\n",
      " 28683.455  4866.565 29878.695  8595.215 29358.015  6083.16 ]\n"
     ]
    }
   ],
   "source": [
    "print(test_data_prediction_1)"
   ]
  },
  {
   "cell_type": "code",
   "execution_count": 48,
   "id": "64ae913e",
   "metadata": {},
   "outputs": [
    {
     "name": "stdout",
     "output_type": "stream",
     "text": [
      "MSE(mean_squared_error():  550902.0362130208\n",
      "MAE(mean_absolute_error):  543.4336458333332\n",
      "MAPE(mean_absolute_percentage_error):  0.028061442318773024\n"
     ]
    }
   ],
   "source": [
    "mse = mean_squared_error(Y_test,test_data_prediction_1)\n",
    "mae = mean_absolute_error(Y_test,test_data_prediction_1)\n",
    "mape = mean_absolute_percentage_error(Y_test,test_data_prediction_1)\n",
    "print('MSE(mean_squared_error(): ',mse)\n",
    "print('MAE(mean_absolute_error): ',mae)\n",
    "print('MAPE(mean_absolute_percentage_error): ',mape)"
   ]
  },
  {
   "cell_type": "code",
   "execution_count": 49,
   "id": "5df4a2fb",
   "metadata": {},
   "outputs": [
    {
     "name": "stdout",
     "output_type": "stream",
     "text": [
      "Accuracy: 99.97193855768123\n"
     ]
    }
   ],
   "source": [
    "accuracy_1=(100-mape)\n",
    "print(\"Accuracy:\", accuracy_1)"
   ]
  },
  {
   "cell_type": "code",
   "execution_count": 50,
   "id": "77e1ba93",
   "metadata": {},
   "outputs": [],
   "source": [
    "Y_test = list(Y_test)"
   ]
  },
  {
   "cell_type": "code",
   "execution_count": 51,
   "id": "6cdca19c",
   "metadata": {},
   "outputs": [
    {
     "name": "stdout",
     "output_type": "stream",
     "text": [
      "[5210, 4267, 13028, 17057, 14639, 27075, 28823, 10311, 4380, 30180, 6059, 29399, 16693, 26963, 16614, 38122, 28252, 4693, 33217, 20835, 22130, 5226, 45504, 5192, 27093, 31251, 4449, 28818, 47315, 27178, 12691, 30097, 5243, 25648, 5041, 9559, 31116, 6030, 8878, 29265, 37356, 16525, 27743, 4901, 30473, 8985, 27427, 6094]\n"
     ]
    }
   ],
   "source": [
    "print(Y_test)"
   ]
  },
  {
   "cell_type": "code",
   "execution_count": 52,
   "id": "614c0b11",
   "metadata": {},
   "outputs": [
    {
     "data": {
      "image/png": "[encoded data removed]",
      "text/plain": [
       "<Figure size 432x288 with 1 Axes>"
      ]
     },
     "metadata": {
      "needs_background": "light"
     },
     "output_type": "display_data"
    }
   ],
   "source": [
    "plt.plot(Y_test, color='blue' , label = 'Actual Values')\n",
    "plt.plot(test_data_prediction_1, color='green', label='Predicted Values_1')\n",
    "plt.title('Actual Price VS Predicted Price')\n",
    "plt.xlabel('Number of values')\n",
    "plt.ylabel('Gold_Price')\n",
    "plt.legend()\n",
    "plt.show()"
   ]
  },
  {
   "cell_type": "code",
   "execution_count": 53,
   "id": "fb90378b",
   "metadata": {},
   "outputs": [
    {
     "data": {
      "text/plain": [
       "array([ 5204.16 ,  4469.325, 12078.35 , 16877.705, 14576.07 , 26755.24 ,\n",
       "       29470.37 , 10249.25 ,  4474.71 , 29565.17 ,  6094.625, 30120.655,\n",
       "       17520.445, 28136.505, 17478.35 , 39803.23 , 26658.05 ,  4776.81 ,\n",
       "       31730.35 , 20809.37 , 21810.735,  5010.715, 45210.3  ,  5473.9  ,\n",
       "       26504.08 , 30430.565,  4530.18 , 27832.18 , 46672.165, 28776.42 ,\n",
       "       13989.96 , 30512.715,  5345.71 , 26102.815,  4927.115,  9176.82 ,\n",
       "       30618.305,  6153.36 ,  8979.62 , 28733.08 , 37319.765, 17189.815,\n",
       "       28683.455,  4866.565, 29878.695,  8595.215, 29358.015,  6083.16 ])"
      ]
     },
     "execution_count": 53,
     "metadata": {},
     "output_type": "execute_result"
    }
   ],
   "source": [
    "pd.to_numeric(test_data_prediction_1)"
   ]
  },
  {
   "cell_type": "code",
   "execution_count": 54,
   "id": "04317e58",
   "metadata": {},
   "outputs": [
    {
     "name": "stdout",
     "output_type": "stream",
     "text": [
      "    Predicted gold price\n",
      "0               5204.160\n",
      "1               4469.325\n",
      "2              12078.350\n",
      "3              16877.705\n",
      "4              14576.070\n",
      "5              26755.240\n",
      "6              29470.370\n",
      "7              10249.250\n",
      "8               4474.710\n",
      "9              29565.170\n",
      "10              6094.625\n",
      "11             30120.655\n",
      "12             17520.445\n",
      "13             28136.505\n",
      "14             17478.350\n",
      "15             39803.230\n",
      "16             26658.050\n",
      "17              4776.810\n",
      "18             31730.350\n",
      "19             20809.370\n",
      "20             21810.735\n",
      "21              5010.715\n",
      "22             45210.300\n",
      "23              5473.900\n",
      "24             26504.080\n",
      "25             30430.565\n",
      "26              4530.180\n",
      "27             27832.180\n",
      "28             46672.165\n",
      "29             28776.420\n",
      "30             13989.960\n",
      "31             30512.715\n",
      "32              5345.710\n",
      "33             26102.815\n",
      "34              4927.115\n",
      "35              9176.820\n",
      "36             30618.305\n",
      "37              6153.360\n",
      "38              8979.620\n",
      "39             28733.080\n",
      "40             37319.765\n",
      "41             17189.815\n",
      "42             28683.455\n",
      "43              4866.565\n",
      "44             29878.695\n",
      "45              8595.215\n",
      "46             29358.015\n",
      "47              6083.160\n"
     ]
    }
   ],
   "source": [
    "df=pd.DataFrame(test_data_prediction_1, columns=['Predicted gold price'])\n",
    "print(df)"
   ]
  },
  {
   "cell_type": "markdown",
   "id": "9a0ba2da",
   "metadata": {},
   "source": [
    "#  Hyperparameters  Tuning"
   ]
  },
  {
   "cell_type": "code",
   "execution_count": 55,
   "id": "c3688309",
   "metadata": {},
   "outputs": [
    {
     "name": "stdout",
     "output_type": "stream",
     "text": [
      "Best Hyperparameters:  {'max_depth': 10, 'min_samples_leaf': 1, 'min_samples_split': 2, 'n_estimators': 300}\n",
      "Best Score:  0.9926017219652188\n",
      "R-squared score:  0.9963902926565512\n"
     ]
    }
   ],
   "source": [
    "param_grid = {\n",
    "    'n_estimators': [150, 200, 300],  # Number of trees in the random forest\n",
    "    'max_depth': [4, 5, 10],  # Maximum depth of each tree\n",
    "    'min_samples_split': [2, 5, 10],  # Minimum number of samples required to split an internal node\n",
    "    'min_samples_leaf': [1, 2, 4],  # Minimum number of samples required to be at a leaf node\n",
    "}\n",
    "\n",
    "# Create an instance of the Random Forest regression model\n",
    "regressor_1= RandomForestRegressor()\n",
    "\n",
    "# Perform grid search with cross-validation\n",
    "grid_search = GridSearchCV(estimator=regressor_1, param_grid=param_grid, cv=5, scoring='r2')\n",
    "grid_search.fit(X_train, Y_train)\n",
    "\n",
    "# Get the best hyperparameters and corresponding score\n",
    "best_params = grid_search.best_params_\n",
    "best_score = grid_search.best_score_\n",
    "\n",
    "# Train the model with the best hyperparameters\n",
    "best_model = RandomForestRegressor(**best_params)\n",
    "best_model.fit(X_train, Y_train)\n",
    "\n",
    "# Make predictions on the testing set using the best model\n",
    "Y_pred = best_model.predict(X_test)\n",
    "\n",
    "# Calculate the R-squared score of the best model\n",
    "r2 = r2_score(Y_test, Y_pred)\n",
    "\n",
    "# Print the best hyperparameters and the corresponding score\n",
    "print(\"Best Hyperparameters: \", best_params)\n",
    "print(\"Best Score: \", best_score)\n",
    "print(\"R-squared score: \", r2)\n"
   ]
  },
  {
   "cell_type": "code",
   "execution_count": 56,
   "id": "0f6e767d",
   "metadata": {},
   "outputs": [
    {
     "data": {
      "text/plain": [
       "RandomForestRegressor()"
      ]
     },
     "execution_count": 56,
     "metadata": {},
     "output_type": "execute_result"
    }
   ],
   "source": [
    "regressor_1.fit(X_train,Y_train)"
   ]
  },
  {
   "cell_type": "code",
   "execution_count": 57,
   "id": "8c9b7069",
   "metadata": {},
   "outputs": [],
   "source": [
    "test_data_prediction_2 = regressor_1.predict(X_test)"
   ]
  },
  {
   "cell_type": "code",
   "execution_count": 58,
   "id": "9b69bf9f",
   "metadata": {},
   "outputs": [
    {
     "name": "stdout",
     "output_type": "stream",
     "text": [
      "[ 5212.55  4476.01 12149.05 16847.27 14571.1  26871.56 29494.63 10359.79\n",
      "  4464.74 29691.91  6087.53 29989.09 17451.55 28105.88 17453.79 39729.34\n",
      " 26707.55  4786.22 31775.11 21010.29 21815.65  4958.34 44531.08  5452.6\n",
      " 26630.84 30614.41  4528.09 27919.85 46439.79 28720.5  13674.25 30493.87\n",
      "  5314.03 26239.49  4889.95  9179.24 30468.38  6176.65  9068.7  28653.2\n",
      " 37606.2  17016.27 28484.35  4839.54 30149.8   8677.69 29467.27  6022.74]\n"
     ]
    }
   ],
   "source": [
    " print(test_data_prediction_2)"
   ]
  },
  {
   "cell_type": "markdown",
   "id": "10aaab35",
   "metadata": {},
   "source": [
    "# Mean_squared_error,Mean_absolute_error,Mean_absolute_percentage_error"
   ]
  },
  {
   "cell_type": "code",
   "execution_count": 59,
   "id": "90c1b2bb",
   "metadata": {},
   "outputs": [
    {
     "name": "stdout",
     "output_type": "stream",
     "text": [
      "R Squared error : 0.996417162726296\n"
     ]
    }
   ],
   "source": [
    "error_score = metrics.r2_score(Y_test, test_data_prediction_2)\n",
    "print(\"R Squared error :\", error_score)"
   ]
  },
  {
   "cell_type": "code",
   "execution_count": 60,
   "id": "1da7f04e",
   "metadata": {},
   "outputs": [
    {
     "name": "stdout",
     "output_type": "stream",
     "text": [
      "MSE(mean_squared_error():  523168.76531041646\n",
      "MAE(mean_absolute_error):  538.5964583333332\n",
      "MAPE(mean_absolute_percentage_error):  0.027631127309157368\n"
     ]
    }
   ],
   "source": [
    "mse_1 = mean_squared_error(Y_test,test_data_prediction_2)\n",
    "mae_1 = mean_absolute_error(Y_test,test_data_prediction_2)\n",
    "mape_1 = mean_absolute_percentage_error(Y_test,test_data_prediction_2)\n",
    "print('MSE(mean_squared_error(): ',mse_1)\n",
    "print('MAE(mean_absolute_error): ',mae_1)\n",
    "print('MAPE(mean_absolute_percentage_error): ',mape_1)"
   ]
  },
  {
   "cell_type": "markdown",
   "id": "b9d21703",
   "metadata": {},
   "source": [
    "# Calculate the accuracy score"
   ]
  },
  {
   "cell_type": "code",
   "execution_count": 61,
   "id": "e54a2a11",
   "metadata": {},
   "outputs": [
    {
     "name": "stdout",
     "output_type": "stream",
     "text": [
      "Accuracy: 99.97236887269084\n"
     ]
    }
   ],
   "source": [
    "accuracy=(100-mape_1)\n",
    "print(\"Accuracy:\", accuracy)"
   ]
  },
  {
   "cell_type": "code",
   "execution_count": 62,
   "id": "000cd650",
   "metadata": {},
   "outputs": [],
   "source": [
    "Y_test = list(Y_test)"
   ]
  },
  {
   "cell_type": "code",
   "execution_count": 63,
   "id": "eca644a5",
   "metadata": {},
   "outputs": [
    {
     "name": "stdout",
     "output_type": "stream",
     "text": [
      "[5210, 4267, 13028, 17057, 14639, 27075, 28823, 10311, 4380, 30180, 6059, 29399, 16693, 26963, 16614, 38122, 28252, 4693, 33217, 20835, 22130, 5226, 45504, 5192, 27093, 31251, 4449, 28818, 47315, 27178, 12691, 30097, 5243, 25648, 5041, 9559, 31116, 6030, 8878, 29265, 37356, 16525, 27743, 4901, 30473, 8985, 27427, 6094]\n"
     ]
    }
   ],
   "source": [
    "print(Y_test)"
   ]
  },
  {
   "cell_type": "code",
   "execution_count": 64,
   "id": "37a301d1",
   "metadata": {},
   "outputs": [
    {
     "data": {
      "image/png": "[encoded data removed]",
      "text/plain": [
       "<Figure size 432x288 with 1 Axes>"
      ]
     },
     "metadata": {
      "needs_background": "light"
     },
     "output_type": "display_data"
    }
   ],
   "source": [
    "plt.plot(Y_test, color='blue' , label = 'Actual Values')\n",
    "plt.plot(test_data_prediction_2, color='green', label='Predicted Values_2')\n",
    "plt.title('Actual Price VS Predicted Price_2')\n",
    "plt.xlabel('Number of values')\n",
    "plt.ylabel('Gold_Price')\n",
    "plt.legend()\n",
    "plt.show()"
   ]
  },
  {
   "cell_type": "code",
   "execution_count": 65,
   "id": "17faae70",
   "metadata": {},
   "outputs": [
    {
     "data": {
      "text/plain": [
       "array([ 5212.55,  4476.01, 12149.05, 16847.27, 14571.1 , 26871.56,\n",
       "       29494.63, 10359.79,  4464.74, 29691.91,  6087.53, 29989.09,\n",
       "       17451.55, 28105.88, 17453.79, 39729.34, 26707.55,  4786.22,\n",
       "       31775.11, 21010.29, 21815.65,  4958.34, 44531.08,  5452.6 ,\n",
       "       26630.84, 30614.41,  4528.09, 27919.85, 46439.79, 28720.5 ,\n",
       "       13674.25, 30493.87,  5314.03, 26239.49,  4889.95,  9179.24,\n",
       "       30468.38,  6176.65,  9068.7 , 28653.2 , 37606.2 , 17016.27,\n",
       "       28484.35,  4839.54, 30149.8 ,  8677.69, 29467.27,  6022.74])"
      ]
     },
     "execution_count": 65,
     "metadata": {},
     "output_type": "execute_result"
    }
   ],
   "source": [
    "pd.to_numeric(test_data_prediction_2)"
   ]
  },
  {
   "cell_type": "code",
   "execution_count": 66,
   "id": "9c8fa074",
   "metadata": {},
   "outputs": [
    {
     "name": "stdout",
     "output_type": "stream",
     "text": [
      "    Predicted gold price\n",
      "0                5212.55\n",
      "1                4476.01\n",
      "2               12149.05\n",
      "3               16847.27\n",
      "4               14571.10\n",
      "5               26871.56\n",
      "6               29494.63\n",
      "7               10359.79\n",
      "8                4464.74\n",
      "9               29691.91\n",
      "10               6087.53\n",
      "11              29989.09\n",
      "12              17451.55\n",
      "13              28105.88\n",
      "14              17453.79\n",
      "15              39729.34\n",
      "16              26707.55\n",
      "17               4786.22\n",
      "18              31775.11\n",
      "19              21010.29\n",
      "20              21815.65\n",
      "21               4958.34\n",
      "22              44531.08\n",
      "23               5452.60\n",
      "24              26630.84\n",
      "25              30614.41\n",
      "26               4528.09\n",
      "27              27919.85\n",
      "28              46439.79\n",
      "29              28720.50\n",
      "30              13674.25\n",
      "31              30493.87\n",
      "32               5314.03\n",
      "33              26239.49\n",
      "34               4889.95\n",
      "35               9179.24\n",
      "36              30468.38\n",
      "37               6176.65\n",
      "38               9068.70\n",
      "39              28653.20\n",
      "40              37606.20\n",
      "41              17016.27\n",
      "42              28484.35\n",
      "43               4839.54\n",
      "44              30149.80\n",
      "45               8677.69\n",
      "46              29467.27\n",
      "47               6022.74\n"
     ]
    }
   ],
   "source": [
    "df_1=pd.DataFrame(test_data_prediction_2, columns=['Predicted gold price'])\n",
    "print(df_1)"
   ]
  },
  {
   "cell_type": "markdown",
   "id": "b2216e2d",
   "metadata": {},
   "source": [
    "# Linear Regressoin"
   ]
  },
  {
   "cell_type": "code",
   "execution_count": 67,
   "id": "fd6594c9",
   "metadata": {},
   "outputs": [
    {
     "data": {
      "text/plain": [
       "LinearRegression(positive=True)"
      ]
     },
     "execution_count": 67,
     "metadata": {},
     "output_type": "execute_result"
    }
   ],
   "source": [
    "linear_model = LinearRegression(positive=True)\n",
    "linear_model.fit(X_train, Y_train)"
   ]
  },
  {
   "cell_type": "markdown",
   "id": "0ba16f93",
   "metadata": {},
   "source": [
    "# Prediction linear regression model"
   ]
  },
  {
   "cell_type": "code",
   "execution_count": 68,
   "id": "e0f1b746",
   "metadata": {},
   "outputs": [],
   "source": [
    "linear_predictions = linear_model.predict(X_test)"
   ]
  },
  {
   "cell_type": "code",
   "execution_count": 69,
   "id": "1d569f71",
   "metadata": {},
   "outputs": [
    {
     "name": "stdout",
     "output_type": "stream",
     "text": [
      "[ 5055.20029762  3769.63454814 16515.34106849 16586.90877707\n",
      " 14180.86389007 27239.8175128  30083.84003317 12071.49136701\n",
      "  4136.30126064 25926.90145422  6523.68896469 32504.56084993\n",
      " 17047.95169429 30944.58867684 16838.28351769 38318.7428789\n",
      " 27102.40134041  3877.59084461 35666.22653078 20722.23595215\n",
      " 20923.64481903  4524.37737262 34325.58229762  5040.63310625\n",
      " 28781.9764208  34082.683581    4293.18907852 28517.44397876\n",
      " 36818.35963027 28074.32562581 13885.64593979 35861.87607447\n",
      "  4888.48935877 28596.75632806  4418.97553416 10527.64691577\n",
      " 34262.32488588  7314.09010663 10100.06981571 30328.81700622\n",
      " 36964.3001922  16618.36982879 26756.56471846  3922.37449865\n",
      " 30665.20203992  9539.00912205 31005.53662354  5526.69349789]\n"
     ]
    }
   ],
   "source": [
    "print(linear_predictions)"
   ]
  },
  {
   "cell_type": "markdown",
   "id": "55a29895",
   "metadata": {},
   "source": [
    "# Evaluate linear regression mode"
   ]
  },
  {
   "cell_type": "code",
   "execution_count": 70,
   "id": "b853ff40",
   "metadata": {},
   "outputs": [
    {
     "name": "stdout",
     "output_type": "stream",
     "text": [
      "R Squared error : 0.9439155822229386\n"
     ]
    }
   ],
   "source": [
    "error_score = metrics.r2_score(Y_test, linear_predictions)\n",
    "print(\"R Squared error :\", error_score)"
   ]
  },
  {
   "cell_type": "code",
   "execution_count": 71,
   "id": "00b8cbcf",
   "metadata": {},
   "outputs": [
    {
     "name": "stdout",
     "output_type": "stream",
     "text": [
      "MSE:  8189491.556574301\n",
      "MAE:  1690.1082700189863\n",
      "MAPE:  0.028061442318773024\n"
     ]
    }
   ],
   "source": [
    "mse = mean_squared_error(Y_test,linear_predictions)\n",
    "mae = mean_absolute_error(Y_test,linear_predictions)\n",
    "mape_l = mean_absolute_percentage_error(Y_test,linear_predictions)\n",
    "print('MSE: ',mse)\n",
    "print('MAE: ',mae)\n",
    "print('MAPE: ',mape)"
   ]
  },
  {
   "cell_type": "markdown",
   "id": "8f465441",
   "metadata": {},
   "source": [
    "# Accuracy"
   ]
  },
  {
   "cell_type": "code",
   "execution_count": 72,
   "id": "61ea2c0c",
   "metadata": {},
   "outputs": [
    {
     "name": "stdout",
     "output_type": "stream",
     "text": [
      "Linear Regression model Accuracy: 99.9126203510847\n"
     ]
    }
   ],
   "source": [
    "acc_l=(100-mape_l)\n",
    "print(\"Linear Regression model Accuracy:\", acc_l)"
   ]
  },
  {
   "cell_type": "code",
   "execution_count": 73,
   "id": "72869816",
   "metadata": {},
   "outputs": [
    {
     "name": "stdout",
     "output_type": "stream",
     "text": [
      "[5210, 4267, 13028, 17057, 14639, 27075, 28823, 10311, 4380, 30180, 6059, 29399, 16693, 26963, 16614, 38122, 28252, 4693, 33217, 20835, 22130, 5226, 45504, 5192, 27093, 31251, 4449, 28818, 47315, 27178, 12691, 30097, 5243, 25648, 5041, 9559, 31116, 6030, 8878, 29265, 37356, 16525, 27743, 4901, 30473, 8985, 27427, 6094]\n"
     ]
    }
   ],
   "source": [
    "Y_test=list(Y_test)\n",
    "print(Y_test)"
   ]
  },
  {
   "cell_type": "code",
   "execution_count": 74,
   "id": "7257afd3",
   "metadata": {},
   "outputs": [
    {
     "data": {
      "image/png": "[encoded data removed]",
      "text/plain": [
       "<Figure size 432x288 with 1 Axes>"
      ]
     },
     "metadata": {
      "needs_background": "light"
     },
     "output_type": "display_data"
    }
   ],
   "source": [
    "plt.plot(Y_test, color='blue' , label = 'Actual Values')\n",
    "plt.plot(linear_predictions, color='red', label='Predicted Values')\n",
    "plt.title('Actual Price VS Predicted Price')\n",
    "plt.xlabel('Number of values')\n",
    "plt.ylabel('Gold_Price')\n",
    "plt.legend()\n",
    "plt.show()"
   ]
  },
  {
   "cell_type": "code",
   "execution_count": 75,
   "id": "9ccbe376",
   "metadata": {},
   "outputs": [
    {
     "name": "stdout",
     "output_type": "stream",
     "text": [
      "    Predicted gold price\n",
      "0            5055.200298\n",
      "1            3769.634548\n",
      "2           16515.341068\n",
      "3           16586.908777\n",
      "4           14180.863890\n",
      "5           27239.817513\n",
      "6           30083.840033\n",
      "7           12071.491367\n",
      "8            4136.301261\n",
      "9           25926.901454\n",
      "10           6523.688965\n",
      "11          32504.560850\n",
      "12          17047.951694\n",
      "13          30944.588677\n",
      "14          16838.283518\n",
      "15          38318.742879\n",
      "16          27102.401340\n",
      "17           3877.590845\n",
      "18          35666.226531\n",
      "19          20722.235952\n",
      "20          20923.644819\n",
      "21           4524.377373\n",
      "22          34325.582298\n",
      "23           5040.633106\n",
      "24          28781.976421\n",
      "25          34082.683581\n",
      "26           4293.189079\n",
      "27          28517.443979\n",
      "28          36818.359630\n",
      "29          28074.325626\n",
      "30          13885.645940\n",
      "31          35861.876074\n",
      "32           4888.489359\n",
      "33          28596.756328\n",
      "34           4418.975534\n",
      "35          10527.646916\n",
      "36          34262.324886\n",
      "37           7314.090107\n",
      "38          10100.069816\n",
      "39          30328.817006\n",
      "40          36964.300192\n",
      "41          16618.369829\n",
      "42          26756.564718\n",
      "43           3922.374499\n",
      "44          30665.202040\n",
      "45           9539.009122\n",
      "46          31005.536624\n",
      "47           5526.693498\n"
     ]
    }
   ],
   "source": [
    "df=pd.DataFrame(linear_predictions, columns=['Predicted gold price'])\n",
    "print(df)"
   ]
  },
  {
   "cell_type": "markdown",
   "id": "1ede0e63",
   "metadata": {},
   "source": [
    "# Decision Tree Regression"
   ]
  },
  {
   "cell_type": "code",
   "execution_count": 76,
   "id": "30f95662",
   "metadata": {},
   "outputs": [
    {
     "data": {
      "text/plain": [
       "DecisionTreeRegressor()"
      ]
     },
     "execution_count": 76,
     "metadata": {},
     "output_type": "execute_result"
    }
   ],
   "source": [
    "tree_model = DecisionTreeRegressor()\n",
    "tree_model.fit(X_train, Y_train)"
   ]
  },
  {
   "cell_type": "markdown",
   "id": "7838fa18",
   "metadata": {},
   "source": [
    "# Predict using decision tree regression  "
   ]
  },
  {
   "cell_type": "code",
   "execution_count": 77,
   "id": "4c7dfb81",
   "metadata": {},
   "outputs": [],
   "source": [
    "tree_predictions = tree_model.predict(X_test)"
   ]
  },
  {
   "cell_type": "code",
   "execution_count": 78,
   "id": "bb8cd715",
   "metadata": {},
   "outputs": [
    {
     "name": "stdout",
     "output_type": "stream",
     "text": [
      "[ 5239.  4269. 12143. 17159. 14720. 26115. 28170. 11291.  4576. 29819.\n",
      "  6058. 30986. 16706. 26991. 16706. 41195. 25998.  4920. 32230. 21470.\n",
      " 21470.  5188. 46343.  5363. 25539. 30071.  4631. 28794. 46343. 28008.\n",
      " 14621. 29644.  5444. 25207.  5188.  9469. 30707.  6361.  9370. 28746.\n",
      " 34522. 16706. 28008.  4920. 30211.  8952. 29329.  6179.]\n"
     ]
    }
   ],
   "source": [
    "print(tree_predictions)"
   ]
  },
  {
   "cell_type": "markdown",
   "id": "11b1493f",
   "metadata": {},
   "source": [
    "# Evaluate decision tree mode"
   ]
  },
  {
   "cell_type": "code",
   "execution_count": 79,
   "id": "19094e92",
   "metadata": {},
   "outputs": [
    {
     "name": "stdout",
     "output_type": "stream",
     "text": [
      "R Squared error : 0.99354882518291\n"
     ]
    }
   ],
   "source": [
    "error_score = metrics.r2_score(Y_test,tree_predictions)\n",
    "print(\"R Squared error :\", error_score)"
   ]
  },
  {
   "cell_type": "code",
   "execution_count": 80,
   "id": "5e7cf438",
   "metadata": {},
   "outputs": [
    {
     "name": "stdout",
     "output_type": "stream",
     "text": [
      "MSE(mean_squared_error):  942005.7083333334\n",
      "MAE(mean_absolute_error):  628.9583333333334\n",
      "MAPE(mean_absolute_percentage_error):  0.028061442318773024\n"
     ]
    }
   ],
   "source": [
    "mse = mean_squared_error(Y_test,tree_predictions)\n",
    "mae = mean_absolute_error(Y_test,tree_predictions)\n",
    "mape_d = mean_absolute_percentage_error(Y_test,tree_predictions)\n",
    "print('MSE(mean_squared_error): ',mse)\n",
    "print('MAE(mean_absolute_error): ',mae)\n",
    "print('MAPE(mean_absolute_percentage_error): ',mape)"
   ]
  },
  {
   "cell_type": "markdown",
   "id": "0633b5a6",
   "metadata": {},
   "source": [
    "# Accuracy"
   ]
  },
  {
   "cell_type": "code",
   "execution_count": 81,
   "id": "f5dfae2f",
   "metadata": {},
   "outputs": [
    {
     "name": "stdout",
     "output_type": "stream",
     "text": [
      "Decision Tree model Accuracy: 99.96874072864291\n"
     ]
    }
   ],
   "source": [
    "acc_d=(100-mape_d)\n",
    "print(\"Decision Tree model Accuracy:\", acc_d)"
   ]
  },
  {
   "cell_type": "code",
   "execution_count": 82,
   "id": "54b4c0b2",
   "metadata": {},
   "outputs": [
    {
     "name": "stdout",
     "output_type": "stream",
     "text": [
      "[5210, 4267, 13028, 17057, 14639, 27075, 28823, 10311, 4380, 30180, 6059, 29399, 16693, 26963, 16614, 38122, 28252, 4693, 33217, 20835, 22130, 5226, 45504, 5192, 27093, 31251, 4449, 28818, 47315, 27178, 12691, 30097, 5243, 25648, 5041, 9559, 31116, 6030, 8878, 29265, 37356, 16525, 27743, 4901, 30473, 8985, 27427, 6094]\n"
     ]
    }
   ],
   "source": [
    "Y_test=list(Y_test)\n",
    "print(Y_test)"
   ]
  },
  {
   "cell_type": "code",
   "execution_count": 83,
   "id": "bacd7fe0",
   "metadata": {},
   "outputs": [
    {
     "data": {
      "image/png": "[encoded data removed]",
      "text/plain": [
       "<Figure size 432x288 with 1 Axes>"
      ]
     },
     "metadata": {
      "needs_background": "light"
     },
     "output_type": "display_data"
    }
   ],
   "source": [
    "plt.plot(Y_test, color='blue' , label = 'Actual Values')\n",
    "plt.plot(tree_predictions, color='green', label='Predicted Values')\n",
    "plt.title('Actual Price VS Predicted Price')\n",
    "plt.xlabel('Number of values')\n",
    "plt.ylabel('Gold_Price')\n",
    "plt.legend()\n",
    "plt.show()"
   ]
  },
  {
   "cell_type": "code",
   "execution_count": 84,
   "id": "f7b31e4d",
   "metadata": {},
   "outputs": [
    {
     "name": "stdout",
     "output_type": "stream",
     "text": [
      "    Predicted gold price\n",
      "0                 5239.0\n",
      "1                 4269.0\n",
      "2                12143.0\n",
      "3                17159.0\n",
      "4                14720.0\n",
      "5                26115.0\n",
      "6                28170.0\n",
      "7                11291.0\n",
      "8                 4576.0\n",
      "9                29819.0\n",
      "10                6058.0\n",
      "11               30986.0\n",
      "12               16706.0\n",
      "13               26991.0\n",
      "14               16706.0\n",
      "15               41195.0\n",
      "16               25998.0\n",
      "17                4920.0\n",
      "18               32230.0\n",
      "19               21470.0\n",
      "20               21470.0\n",
      "21                5188.0\n",
      "22               46343.0\n",
      "23                5363.0\n",
      "24               25539.0\n",
      "25               30071.0\n",
      "26                4631.0\n",
      "27               28794.0\n",
      "28               46343.0\n",
      "29               28008.0\n",
      "30               14621.0\n",
      "31               29644.0\n",
      "32                5444.0\n",
      "33               25207.0\n",
      "34                5188.0\n",
      "35                9469.0\n",
      "36               30707.0\n",
      "37                6361.0\n",
      "38                9370.0\n",
      "39               28746.0\n",
      "40               34522.0\n",
      "41               16706.0\n",
      "42               28008.0\n",
      "43                4920.0\n",
      "44               30211.0\n",
      "45                8952.0\n",
      "46               29329.0\n",
      "47                6179.0\n"
     ]
    }
   ],
   "source": [
    "df=pd.DataFrame(tree_predictions, columns=['Predicted gold price'])\n",
    "print(df)"
   ]
  },
  {
   "cell_type": "markdown",
   "id": "4cddff45",
   "metadata": {},
   "source": [
    "# Training model performance visualization"
   ]
  },
  {
   "cell_type": "code",
   "execution_count": 85,
   "id": "7e390470",
   "metadata": {},
   "outputs": [
    {
     "data": {
      "image/png": "[encoded data removed]",
      "text/plain": [
       "<Figure size 432x288 with 1 Axes>"
      ]
     },
     "metadata": {
      "needs_background": "light"
     },
     "output_type": "display_data"
    }
   ],
   "source": [
    "# Example metric values\n",
    "epochs = [1, 2, 3]  # Example epochs\n",
    "r2_values = [0.99281,0.97350,0.98502] \n",
    "mae_values = [586.425,1470.1910,972.75]  \n",
    "mape_values = [0.02899,0.10251,0.10251]  \n",
    "accuracy_values = [99.9710,99.8974,99.94806]  \n",
    "\n",
    "\n",
    "# Create the graph\n",
    "plt.plot(epochs, r2_values, label='R2 Square Error')\n",
    "plt.plot(epochs, mae_values, label='MAE')\n",
    "plt.plot(epochs, mape_values, label='MAPE')\n",
    "plt.plot(epochs, accuracy_values, label='Accuracy')\n",
    "\n",
    "# Customize the graph\n",
    "plt.xlabel('Epochs')\n",
    "plt.ylabel('Metric Value')\n",
    "plt.title('Model Performance Metrics')\n",
    "plt.legend()\n",
    "\n",
    "# Show the graph\n",
    "plt.show()"
   ]
  },
  {
   "cell_type": "code",
   "execution_count": 94,
   "id": "a4bd3424",
   "metadata": {},
   "outputs": [
    {
     "name": "stdout",
     "output_type": "stream",
     "text": [
      "[149881.07322982  63436.3571846   63431.87091347]\n"
     ]
    },
    {
     "name": "stderr",
     "output_type": "stream",
     "text": [
      "C:\\Users\\hp\\anaconda3\\lib\\site-packages\\sklearn\\base.py:450: UserWarning: X does not have valid feature names, but LinearRegression was fitted with feature names\n",
      "  warnings.warn(\n"
     ]
    }
   ],
   "source": [
    "new_data = [[62062,4.5 , 110.08 ,6606011.90 , 195.90 ,85],[6305,7.15 , 85.08 ,660604.90 , 190.90 ,99 ],[6402,8,90.02,700705,190.45,99.34]]\n",
    "g_predictions =linear_model.predict(new_data)\n",
    "print(g_predictions)"
   ]
  },
  {
   "cell_type": "code",
   "execution_count": 92,
   "id": "c32a0dbc",
   "metadata": {},
   "outputs": [
    {
     "name": "stdout",
     "output_type": "stream",
     "text": [
      "[64974.05030219 63436.3571846  63431.87091347]\n",
      "[46382.41 38278.28 38257.71]\n"
     ]
    },
    {
     "name": "stderr",
     "output_type": "stream",
     "text": [
      "C:\\Users\\hp\\anaconda3\\lib\\site-packages\\sklearn\\base.py:450: UserWarning: X does not have valid feature names, but LinearRegression was fitted with feature names\n",
      "  warnings.warn(\n",
      "C:\\Users\\hp\\anaconda3\\lib\\site-packages\\sklearn\\base.py:450: UserWarning: X does not have valid feature names, but RandomForestRegressor was fitted with feature names\n",
      "  warnings.warn(\n"
     ]
    }
   ],
   "source": [
    "g_predictions =linear_model.predict(new_data)\n",
    "print(g_predictions)\n",
    "\n",
    "currect_gold_price=regressor_1.predict(new_data )\n",
    "print(currect_gold_price)"
   ]
  },
  {
   "cell_type": "code",
   "execution_count": 88,
   "id": "57f35eb2",
   "metadata": {},
   "outputs": [
    {
     "name": "stdout",
     "output_type": "stream",
     "text": [
      "[46343. 46343. 46343.]\n"
     ]
    },
    {
     "name": "stderr",
     "output_type": "stream",
     "text": [
      "C:\\Users\\hp\\anaconda3\\lib\\site-packages\\sklearn\\base.py:450: UserWarning: X does not have valid feature names, but DecisionTreeRegressor was fitted with feature names\n",
      "  warnings.warn(\n"
     ]
    }
   ],
   "source": [
    "G_predictions = tree_model.predict(new_data)\n",
    "print(G_predictions)"
   ]
  },
  {
   "cell_type": "code",
   "execution_count": 89,
   "id": "1bdddf9d",
   "metadata": {},
   "outputs": [
    {
     "name": "stdout",
     "output_type": "stream",
     "text": [
      "[46343. 46343. 46343.]\n"
     ]
    },
    {
     "name": "stderr",
     "output_type": "stream",
     "text": [
      "C:\\Users\\hp\\anaconda3\\lib\\site-packages\\sklearn\\base.py:450: UserWarning: X does not have valid feature names, but DecisionTreeRegressor was fitted with feature names\n",
      "  warnings.warn(\n"
     ]
    }
   ],
   "source": [
    "G_predictions = tree_model.predict(new_data)\n",
    "print(G_predictions)"
   ]
  },
  {
   "cell_type": "code",
   "execution_count": null,
   "id": "a6a97316",
   "metadata": {},
   "outputs": [],
   "source": []
  },
  {
   "cell_type": "code",
   "execution_count": null,
   "id": "b46ff032",
   "metadata": {},
   "outputs": [],
   "source": []
  }
 ],
 "metadata": {
  "kernelspec": {
   "display_name": "Python 3 (ipykernel)",
   "language": "python",
   "name": "python3"
  },
  "language_info": {
   "codemirror_mode": {
    "name": "ipython",
    "version": 3
   },
   "file_extension": ".py",
   "mimetype": "text/x-python",
   "name": "python",
   "nbconvert_exporter": "python",
   "pygments_lexer": "ipython3",
   "version": "3.9.12"
  }
 },
 "nbformat": 4,
 "nbformat_minor": 5
}
